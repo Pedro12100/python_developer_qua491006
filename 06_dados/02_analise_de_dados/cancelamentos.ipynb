{
 "cells": [
  {
   "cell_type": "markdown",
   "id": "b7b6c284",
   "metadata": {},
   "source": [
    "# Análise de dados da cyberdyne Systems\n",
    "---\n",
    "\n",
    "A cyberdyne Systems contratou cientistas de dados do SENAI \"experts\" em na linguagem de programação em python para analisar o auto índice de cancelamentos de contraros por parte dos clientes da empresa. O desafio aqui é tentar descobrir a causa do alto índice de cancelamento e indice de cancelamento de contratos por parte dos clientes da empresa. O desafio aqui é tentar descobrir a causa do alto índice de cancelamentos e indicar a melhor solução para a empresa.\n",
    "\n",
    "Para isso, a cyberdyne Systems forneceu um *dataset* com os detalhes dos cancelamentos. Os cientistas devem \"dataset\" atráves da biblioteca ***Pandas***.\n",
    "\n",
    "Vamos começar trazendo todos os dados do *dataset* e fazenda o tratamento dos dados"
   ]
  },
  {
   "cell_type": "code",
   "execution_count": null,
   "id": "2d5ea313",
   "metadata": {},
   "outputs": [],
   "source": [
    "# Importa da biblioteca pandas\n",
    "import pandas as pd\n",
    "\n",
    "# lê os dados do dataset no notebook\n",
    "tabela = pd.read_csv(\"cancelamentos.csv\")\n",
    "\n",
    "# imprime os dados do dataset no notebook\n",
    "display(tabela)"
   ]
  },
  {
   "cell_type": "markdown",
   "id": "b416b0af",
   "metadata": {},
   "source": [
    "Agora vamos eliminar a coluna de ID e mandar re-exibir a tabela "
   ]
  },
  {
   "cell_type": "code",
   "execution_count": null,
   "id": "70dc21be",
   "metadata": {},
   "outputs": [],
   "source": [
    "tabela = tabela.drop(\"CustomerID\", axis=1)\n",
    "display(tabela)"
   ]
  },
  {
   "cell_type": "markdown",
   "id": "2b1550a0",
   "metadata": {},
   "source": [
    "Vamos pedir para que o Python nos retorne o número de linhas preenchidas da tabela."
   ]
  },
  {
   "cell_type": "code",
   "execution_count": null,
   "id": "e1e64024",
   "metadata": {},
   "outputs": [],
   "source": [
    "display(tabela.info())"
   ]
  },
  {
   "cell_type": "markdown",
   "id": "cae8817f",
   "metadata": {},
   "source": [
    "Veja que temos em cada uma das colunas um número diferente de linhas. Isso acontece porque temos dados nulos na tabela, e que devemos eliminar. "
   ]
  },
  {
   "cell_type": "code",
   "execution_count": null,
   "id": "46c723b9",
   "metadata": {},
   "outputs": [],
   "source": [
    "tabela = tabela.dropna()\n",
    "display(tabela.info())"
   ]
  },
  {
   "cell_type": "markdown",
   "id": "4a6637f8",
   "metadata": {},
   "source": [
    "Agora, a análise de dados propriamente dita vai começar. Vamos verificar o número de clientes que cancelaram."
   ]
  },
  {
   "cell_type": "code",
   "execution_count": null,
   "id": "a5667eee",
   "metadata": {},
   "outputs": [],
   "source": [
    "display(tabela[\"cancelou\"].value_counts())"
   ]
  },
  {
   "cell_type": "markdown",
   "id": "f2fa9f46",
   "metadata": {},
   "source": [
    "Sabemos que o número do cancelamentos é maior que o de clientes que não cancelaram, mas quanto que isso dá em porcetagem? Vamos descobrir."
   ]
  },
  {
   "cell_type": "code",
   "execution_count": null,
   "id": "86f4906a",
   "metadata": {},
   "outputs": [],
   "source": [
    "display(tabela[\"cancelou\"].value_counts(normalize=True).map(\"{:.2%}\".format))"
   ]
  },
  {
   "cell_type": "markdown",
   "id": "04f86d55",
   "metadata": {},
   "source": [
    "Sabemos agora que aproximadamente 56% dos clientes cancelaram, o que é um número muito alto. \n",
    "Vamos descobrir o por quê.\n",
    "\n",
    "Vamos analisar a taxa de cancelamentos por duração de contrato:"
   ]
  },
  {
   "cell_type": "code",
   "execution_count": null,
   "id": "3f62b109",
   "metadata": {},
   "outputs": [],
   "source": [
    "display(tabela[\"duracao_contrato\"].value_counts())\n",
    "display(tabela[\"duracao_contrato\"].value_counts(normalize=True).map(\"(:.2%)\".format))\n"
   ]
  },
  {
   "cell_type": "markdown",
   "id": "7fcc3569",
   "metadata": {},
   "source": [
    "Podemos perceber que existe uma discrepância entre os contratos do tipo mensal e dos outros tipos. Vamos analisar a taxa de cancelamentos de cada tipo de contrato."
   ]
  },
  {
   "cell_type": "code",
   "execution_count": null,
   "id": "c672b5ca",
   "metadata": {},
   "outputs": [],
   "source": [
    "display(tabela.groupby(\"duracao_contrato\").mean(numeric_only=True))"
   ]
  },
  {
   "cell_type": "markdown",
   "id": "ab993357",
   "metadata": {},
   "source": [
    "Logo de cara, podemos ver que todos os clientes que optaram pelo tipo de contrato mensal cancelaram o serviço. Em outras palavras, contrato do tipo mensal teve 100% de cancelamentos."
   ]
  },
  {
   "cell_type": "markdown",
   "id": "f80cad6a",
   "metadata": {},
   "source": [
    "O que pode ser feito "
   ]
  },
  {
   "cell_type": "code",
   "execution_count": null,
   "id": "346ff422",
   "metadata": {},
   "outputs": [],
   "source": [
    "tabela = tabela[tabela[\"duracao_contrato\"] != \"Monthly\"]\n",
    "display(tabela)\n",
    "display(tabela[\"cancelou\"].value_counts())\n",
    "display(tabela[\"cancelou\"].value_counts(normalize=True).map(\"{:.2%}\".format))\n"
   ]
  },
  {
   "cell_type": "markdown",
   "id": "940de8f5",
   "metadata": {},
   "source": [
    "Pudemos verificar que sem o contrato do tipo mensal, a taxa de cancelamentos diminuiu para 46,05%, ou seja, uma queda de mais de 10% na taxa de cancelamentos. O problema é que a taxa de cancelamentos continua muito alta, afinal, nenhuma empresa quer uma taxa de cancelamentos perto da metade, então precisamos continuar com a análise para verificar outras possíveis razões para a alta taxa de cancelamentos.\n",
    "\n",
    "Vamos anaçosar graficamente falando cada uma das colunas. Ou seja vamos criar gráficos de cada coluna para verificar se há discrepâncias muito grandes nas taxas de cancelamentos em algumas dessas colunas"
   ]
  },
  {
   "cell_type": "code",
   "execution_count": null,
   "id": "c1540845",
   "metadata": {},
   "outputs": [],
   "source": [
    "import plotly.express as px \n",
    "\n",
    "for coluna in tabela.columns:\n",
    "    grafico = px.histogram(tabela, x=coluna, color=\"cancelou\", width=600)\n",
    "    grafico.show()"
   ]
  },
  {
   "cell_type": "markdown",
   "id": "71d82d17",
   "metadata": {},
   "source": [
    "Os gráficos indicam problemas com os usuários que fazem mais de 5 ligações para o call center, e também cancelamentos por parte dos usuários que passam mais de 20 dias inadimplentes. Portanto, deveremos eliminar esses clientes da análise a fim de verificar a nova taxa de cancelamentos sem esses clientes."
   ]
  },
  {
   "cell_type": "code",
   "execution_count": null,
   "id": "d7160daf",
   "metadata": {},
   "outputs": [],
   "source": [
    "tabela = tabela[tabela[\"ligacoes_callcenter\"] < 5]\n",
    "tabela = tabela[tabela[\"dias_atraso\"] <= 20]\n",
    "display(tabela)\n",
    "display(tabela[\"cancelou\"].value_counts())\n",
    "display(tabela[\"cancelou\"].value_counts(normalize=True).map(\"{:.2%}\".format))"
   ]
  }
 ],
 "metadata": {
  "kernelspec": {
   "display_name": "Python 3",
   "language": "python",
   "name": "python3"
  },
  "language_info": {
   "codemirror_mode": {
    "name": "ipython",
    "version": 3
   },
   "file_extension": ".py",
   "mimetype": "text/x-python",
   "name": "python",
   "nbconvert_exporter": "python",
   "pygments_lexer": "ipython3",
   "version": "3.13.4"
  }
 },
 "nbformat": 4,
 "nbformat_minor": 5
}
