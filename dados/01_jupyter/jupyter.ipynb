{
 "cells": [
  {
   "cell_type": "markdown",
   "id": "ef73cd70",
   "metadata": {},
   "source": [
    "# Título do meu texto \n",
    "--- "
   ]
  },
  {
   "cell_type": "markdown",
   "id": "045f30a7",
   "metadata": {},
   "source": [
    "Aqui eu posso digitar tudo.\n"
   ]
  },
  {
   "cell_type": "markdown",
   "id": "0d7d1a10",
   "metadata": {},
   "source": [
    "Novo markdown kkk "
   ]
  },
  {
   "cell_type": "markdown",
   "id": "9014e6b0",
   "metadata": {},
   "source": [
    "Exemplo de código em python : `print(\"Hello\")`"
   ]
  },
  {
   "cell_type": "code",
   "execution_count": 2,
   "id": "3dbfe564",
   "metadata": {},
   "outputs": [
    {
     "name": "stdout",
     "output_type": "stream",
     "text": [
      "EU Sou isso aqui \n"
     ]
    }
   ],
   "source": [
    "print(\"EU Sou isso aqui \")"
   ]
  }
 ],
 "metadata": {
  "kernelspec": {
   "display_name": ".venv (3.13.4)",
   "language": "python",
   "name": "python3"
  },
  "language_info": {
   "codemirror_mode": {
    "name": "ipython",
    "version": 3
   },
   "file_extension": ".py",
   "mimetype": "text/x-python",
   "name": "python",
   "nbconvert_exporter": "python",
   "pygments_lexer": "ipython3",
   "version": "3.13.4"
  }
 },
 "nbformat": 4,
 "nbformat_minor": 5
}
