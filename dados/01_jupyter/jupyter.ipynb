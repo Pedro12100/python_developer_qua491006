{
 "cells": [
  {
   "cell_type": "markdown",
   "id": "ef73cd70",
   "metadata": {},
   "source": [
    "# Título do meu texto \n",
    "--- "
   ]
  },
  {
   "cell_type": "markdown",
   "id": "045f30a7",
   "metadata": {},
   "source": [
    "Aqui eu posso digitar tudo.\n"
   ]
  },
  {
   "cell_type": "markdown",
   "id": "0d7d1a10",
   "metadata": {},
   "source": [
    "Novo markdown kkk "
   ]
  },
  {
   "cell_type": "markdown",
   "id": "9014e6b0",
   "metadata": {},
   "source": [
    "Exemplo de código em python : `print(\"Hello\")`"
   ]
  },
  {
   "cell_type": "code",
   "execution_count": 1,
   "id": "3dbfe564",
   "metadata": {},
   "outputs": [
    {
     "name": "stdout",
     "output_type": "stream",
     "text": [
      "EU Sou isso aqui \n"
     ]
    }
   ],
   "source": [
    "print(\"EU Sou isso aqui \")"
   ]
  },
  {
   "cell_type": "code",
   "execution_count": 4,
   "id": "a4725642",
   "metadata": {},
   "outputs": [],
   "source": [
    "texto = \"Isso é um lindo texto\""
   ]
  },
  {
   "cell_type": "code",
   "execution_count": 7,
   "id": "c67eb96c",
   "metadata": {},
   "outputs": [
    {
     "name": "stdout",
     "output_type": "stream",
     "text": [
      "Isso é um lindo texto\n"
     ]
    }
   ],
   "source": [
    "print(texto)"
   ]
  }
 ],
 "metadata": {
  "kernelspec": {
   "display_name": "nome_da_venv",
   "language": "python",
   "name": "python3"
  },
  "language_info": {
   "codemirror_mode": {
    "name": "ipython",
    "version": 3
   },
   "file_extension": ".py",
   "mimetype": "text/x-python",
   "name": "python",
   "nbconvert_exporter": "python",
   "pygments_lexer": "ipython3",
   "version": "3.13.4"
  }
 },
 "nbformat": 4,
 "nbformat_minor": 5
}
